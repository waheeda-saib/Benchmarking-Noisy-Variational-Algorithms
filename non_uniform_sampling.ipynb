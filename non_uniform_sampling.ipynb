{
 "cells": [
  {
   "cell_type": "code",
   "execution_count": 1,
   "metadata": {},
   "outputs": [],
   "source": [
    "%matplotlib inline\n",
    "# Importing standard Qiskit libraries and configuring account\n",
    "from qiskit import QuantumCircuit, execute, Aer, IBMQ\n",
    "from qiskit.compiler import transpile, assemble\n",
    "from qiskit.tools.jupyter import *\n",
    "from qiskit.visualization import *\n",
    "from qiskit.circuit.library import TwoLocal, EfficientSU2\n",
    "from qiskit.circuit import ParameterVector\n",
    "from qiskit.quantum_info.states.random import random_statevector, random_unitary\n",
    "from qiskit.quantum_info import state_fidelity\n",
    "from qiskit.aqua.utils import get_subsystem_density_matrix\n",
    "from qiskit.aqua import aqua_globals\n",
    "from qiskit.extensions.quantum_initializer.uc import UCGate\n",
    "from scipy.special import rel_entr\n",
    "from qiskit.extensions import CXGate\n",
    "from qiskit.providers.aer.extensions.snapshot_statevector import *\n",
    "import numpy as np\n",
    "import matplotlib.pyplot as plt\n",
    "import warnings\n",
    "warnings.filterwarnings('ignore')\n",
    "# setup qiskit.chemistry logging\n",
    "import logging\n",
    "from qiskit.chemistry import set_qiskit_chemistry_logging\n",
    "set_qiskit_chemistry_logging(logging.ERROR)\n",
    "# choose among DEBUG, INFO, WARNING, ERROR, CRITICAL and NOTSET # choose among DEBUG, INFO, WARNING, ERROR, CRITICAL and NOTSET"
   ]
  },
  {
   "cell_type": "code",
   "execution_count": 2,
   "metadata": {},
   "outputs": [
    {
     "name": "stdout",
     "output_type": "stream",
     "text": [
      "qasm_simulator\n"
     ]
    }
   ],
   "source": [
    "backend = Aer.get_backend(\"qasm_simulator\")\n",
    "print(backend)\n",
    "\n",
    "#Set the seed for reproducible results\n",
    "aqua_globals.random_seed = 100\n",
    "seed_simulator = 100\n",
    "seed_transpiler=100\n",
    "np.random.seed(100)"
   ]
  },
  {
   "cell_type": "code",
   "execution_count": 3,
   "metadata": {},
   "outputs": [],
   "source": [
    "def haar_distribution():\n",
    "    flist = []\n",
    "    for m in range(2000):\n",
    "        a = random_statevector(4)\n",
    "        b = random_statevector(4)\n",
    "        flist.append(state_fidelity(a, b))\n",
    "    return flist"
   ]
  },
  {
   "cell_type": "code",
   "execution_count": 4,
   "metadata": {},
   "outputs": [],
   "source": [
    "#Determine expressibility for CZ and CX gates #\n",
    "def quantum_state_preparation(parameters):\n",
    "        circuit = QuantumCircuit(1)\n",
    "        #circuit.id(0)\n",
    "        circuit.h(0)\n",
    "        circuit.rz(parameters[0], 0)\n",
    "        circuit.rx(parameters[1], 0)\n",
    "        circuit.snapshot_statevector('final')\n",
    "        return circuit\n",
    "\n",
    "def get_distribution():\n",
    "    cfidelityList = []\n",
    "    for m in range(5000):\n",
    "        qstatelist = []\n",
    "        for i in range(2):\n",
    "            # Obtain a quantum circuit instance from the paramters\n",
    "           # params = np.random.random(2)*2*np.pi #0 to 2pi, below is replacement for uniform sampling\n",
    "            params = np.random.random(2)\n",
    "            params[0] = np.arccos(params[0]*2 -1)\n",
    "            if np.random.random(1) < 0.5:\n",
    "                 params[0] += np.pi\n",
    "            params[1] *=  2 * np.pi\n",
    "            circ = quantum_state_preparation(params)\n",
    "            result = execute(circ, backend, seed_simulator=seed_simulator, seed_transpiler=seed_transpiler).result()\n",
    "            outputstate = result.data(0)['snapshots']['statevector']['final']\n",
    "            #statevector = np.concatenate(outputstate)\n",
    "            qstatelist.append(outputstate[0])\n",
    "        cfidelityList.append(state_fidelity(qstatelist[0], qstatelist[1]))\n",
    "    print(circ.draw())\n",
    "    return cfidelityList"
   ]
  },
  {
   "cell_type": "code",
   "execution_count": 5,
   "metadata": {},
   "outputs": [],
   "source": [
    "#Compute KL divergence between distributions of state fidelities\n",
    "def kl_divergence(p):\n",
    "    N= 2 #1<<num_qubits\n",
    "    num_bins = 75\n",
    "    bin_width = 1/num_bins\n",
    "    bin_edges = np.linspace(0,1,num_bins+1)\n",
    "    \n",
    "    chist, _ =  np.histogram(np.array(p), bins=bin_edges, density= True)\n",
    "    fhist = np.array([(N-1)*(1-F)**(N-2) for F in bin_edges[:-1]])\n",
    "    \n",
    "    kl_pq = np.sum(rel_entr(chist*bin_width, fhist/sum(fhist))) #fhist*bin_width))\n",
    "    print('KL(P || Q): %.3f ' % kl_pq)\n",
    "    return kl_pq"
   ]
  },
  {
   "cell_type": "code",
   "execution_count": 6,
   "metadata": {},
   "outputs": [
    {
     "name": "stdout",
     "output_type": "stream",
     "text": [
      "Figure(314.126x84.28)\n",
      "KL(P || Q): 0.007 \n"
     ]
    },
    {
     "data": {
      "image/png": "[encoded data removed]",
      "text/plain": [
       "<Figure size 314.126x84.28 with 1 Axes>"
      ]
     },
     "metadata": {},
     "output_type": "display_data"
    }
   ],
   "source": [
    "#hlist = haar_distribution()\n",
    "#circuit B experiment\n",
    "num_qubits = 1\n",
    "cfidelityList = get_distribution()\n",
    "kl = kl_divergence(cfidelityList)"
   ]
  },
  {
   "cell_type": "code",
   "execution_count": 9,
   "metadata": {
    "scrolled": true
   },
   "outputs": [
    {
     "data": {
      "text/plain": [
       "<matplotlib.legend.Legend at 0x7f6a2ed20760>"
      ]
     },
     "execution_count": 9,
     "metadata": {},
     "output_type": "execute_result"
    },
    {
     "data": {
      "image/png": "[encoded data removed]",
      "text/plain": [
       "<Figure size 432x288 with 1 Axes>"
      ]
     },
     "metadata": {
      "needs_background": "light"
     },
     "output_type": "display_data"
    }
   ],
   "source": [
    "#Plot the distribution - review before running\n",
    "N=2\n",
    "num_bins = 75\n",
    "bin_width = 1/num_bins\n",
    "bin_edges = np.linspace(0,1,num_bins+1)\n",
    "#Sampling Haar measure\n",
    "#flist =[]\n",
    "#for i in range(2000):\n",
    "#     a=random_statevector(4)\n",
    "#     b=random_statevector(4)\n",
    "#     flist.append(state_fidelity(a, b))\n",
    "#fhist, fbin_edges =  np.histogram(np.array(flist), bins=cbin_edges, density= True)\n",
    "\n",
    "chist, _ =  np.histogram(np.array(cfidelityList), bins=bin_edges, density= True)\n",
    "#analytical haar measure\n",
    "fhist = np.array([(N-1)*(1-F)**(N-2) for F in bin_edges[:-1]])\n",
    "\n",
    "# Get some pastel shades for the colors\n",
    "# cmaps['Perceptually Uniform Sequential'] = [\n",
    "#             'viridis', 'plasma', 'inferno', 'magma', 'cividis']\n",
    "\n",
    "data_color = [180.,650.,450.,1000.]\n",
    "#data_color = [180.,570.,450.,900.]\n",
    "data_color = [x / max(data_color) for x in data_color]\n",
    "#fig, ax = plt.subplots(figsize=(15, 4))\n",
    "my_cmap = plt.cm.get_cmap('viridis')\n",
    "colors = my_cmap(data_color)\n",
    "plt.bar(bin_edges[:-1],fhist,align=\"edge\",width=bin_width,color=colors[1],label=\"Haar\")\n",
    "plt.bar(bin_edges[:-1],chist,align=\"edge\",width=bin_width,color=colors[0],alpha = 0.85,label=\"Circuit\")\n",
    "plt.xlabel('Fidelity')\n",
    "plt.ylabel('Probability')\n",
    "plt.legend(loc=4)\n",
    "\n",
    "#_ = plt.hist(np.array(cfidelityList), bins=10,density=True)  # arguments are passed to np.histogram\n",
    "#plt.title(\"Histogram with 'auto' bins\")\n",
    " \n",
    "\n",
    "#_ = plt.hist(np.array(flist), bins=10,density=True)\n",
    "#_=plt.plot(np.linspace(0,1,100),[(N-1)*(1-F)**(N-2) for F in np.linspace(0,1,100)])\n",
    "#plt.show()"
   ]
  }
 ],
 "metadata": {
  "kernelspec": {
   "display_name": "Python 3",
   "language": "python",
   "name": "python3"
  },
  "language_info": {
   "codemirror_mode": {
    "name": "ipython",
    "version": 3
   },
   "file_extension": ".py",
   "mimetype": "text/x-python",
   "name": "python",
   "nbconvert_exporter": "python",
   "pygments_lexer": "ipython3",
   "version": "3.8.8"
  }
 },
 "nbformat": 4,
 "nbformat_minor": 4
}
