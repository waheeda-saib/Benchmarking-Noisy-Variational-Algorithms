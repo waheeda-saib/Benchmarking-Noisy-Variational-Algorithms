{
 "cells": [
  {
   "cell_type": "code",
   "execution_count": 1,
   "metadata": {},
   "outputs": [],
   "source": [
    "%matplotlib inline\n",
    "# Importing standard Qiskit libraries and configuring account\n",
    "from qiskit import QuantumCircuit, execute, Aer, IBMQ\n",
    "from qiskit.compiler import transpile, assemble\n",
    "from qiskit.tools.jupyter import *\n",
    "from qiskit.visualization import *\n",
    "\n",
    "from qiskit import IBMQ, BasicAer, Aer, QuantumCircuit, execute\n",
    "from qiskit.circuit.library import TwoLocal, EfficientSU2\n",
    "from qiskit.quantum_info.states.random import random_statevector\n",
    "from qiskit.quantum_info import state_fidelity\n",
    "from qiskit.aqua.utils import get_subsystem_density_matrix\n",
    "from qiskit.aqua import aqua_globals\n",
    "from scipy.special import rel_entr\n",
    "from qiskit.extensions import CXGate\n",
    "from qiskit.providers.aer.noise import NoiseModel, errors\n",
    "from qiskit.providers.aer.extensions.snapshot_statevector import *\n",
    "import numpy as np\n",
    "import matplotlib.pyplot as plt\n",
    "import warnings\n",
    "warnings.filterwarnings('ignore')\n",
    "# setup qiskit.chemistry logging\n",
    "import logging\n",
    "from qiskit.chemistry import set_qiskit_chemistry_logging\n",
    "set_qiskit_chemistry_logging(logging.ERROR)"
   ]
  },
  {
   "cell_type": "code",
   "execution_count": 2,
   "metadata": {},
   "outputs": [
    {
     "name": "stdout",
     "output_type": "stream",
     "text": [
      "NoiseModel:\n",
      "  Basis gates: ['cx', 'id', 'u2', 'u3']\n",
      "  Instructions with noise: ['id', 'u2', 'cx', 'measure', 'u3']\n",
      "  Qubits with noise: [0, 1, 2, 3, 4]\n",
      "  Specific qubit errors: [('id', [0]), ('id', [1]), ('id', [2]), ('id', [3]), ('id', [4]), ('u2', [0]), ('u2', [1]), ('u2', [2]), ('u2', [3]), ('u2', [4]), ('u3', [0]), ('u3', [1]), ('u3', [2]), ('u3', [3]), ('u3', [4]), ('cx', [0, 1]), ('cx', [0, 2]), ('cx', [1, 0]), ('cx', [1, 2]), ('cx', [2, 0]), ('cx', [2, 1]), ('cx', [2, 3]), ('cx', [2, 4]), ('cx', [3, 2]), ('cx', [3, 4]), ('cx', [4, 2]), ('cx', [4, 3]), ('measure', [0]), ('measure', [1]), ('measure', [2]), ('measure', [3]), ('measure', [4])]\n",
      "qasm_simulator\n"
     ]
    }
   ],
   "source": [
    "# Loading your IBM Q account(s)\n",
    "provider = IBMQ.load_account()\n",
    "device = provider.get_backend('ibmqx2')\n",
    "coupling_map = device.configuration().coupling_map\n",
    "noise_model = NoiseModel.from_backend(device)\n",
    "basis_gates = noise_model.basis_gates\n",
    "print(noise_model)\n",
    "\n",
    "backend = Aer.get_backend(\"qasm_simulator\")\n",
    "print(backend)\n",
    "# available backends\n",
    "#print(provider.backends())"
   ]
  },
  {
   "cell_type": "code",
   "execution_count": 3,
   "metadata": {},
   "outputs": [],
   "source": [
    "#Set the seed for reproducible results\n",
    "aqua_globals.random_seed = 100\n",
    "seed_simulator = 100\n",
    "seed_transpiler=100\n",
    "np.random.seed(100)"
   ]
  },
  {
   "cell_type": "code",
   "execution_count": 4,
   "metadata": {},
   "outputs": [],
   "source": [
    "#Alternative way to attain the Haar distribution\n",
    "def haar_distribution():\n",
    "    nplist = np.load('haar_distribution.npy')\n",
    "    flist = nplist.tolist()\n",
    "    if len(flist) == 0:\n",
    "        print('the list is empty')\n",
    "        flist = []\n",
    "        for m in range(5000):\n",
    "            a = random_statevector(4)\n",
    "            b = random_statevector(4)\n",
    "            flist.append(state_fidelity(a, b))\n",
    "        np.save('haar_distribution.npy', flist)\n",
    "    return flist\n",
    "\n",
    "\n",
    "def get_pqc(params,ansatz):\n",
    "    param_dict={}\n",
    "    for i in range(ansatz.num_parameters):\n",
    "        param_dict[list(ansatz.ordered_parameters)[i]]=params[i]\n",
    "\n",
    "    #print(param_dict)\n",
    "    pqc=ansatz.bind_parameters(param_dict)\n",
    "    return pqc\n",
    "\n",
    "\n",
    "def get_circuit_distribution(ansatz):\n",
    "    fidelityList = []\n",
    "    listsv = []\n",
    "    for m in range(5000):\n",
    "        qstatelist =[]\n",
    "        for i in range(2):\n",
    "            # Obtain a quantum circuit instance from the paramters\n",
    "            params = np.random.random(ansatz.num_parameters)*2*np.pi\n",
    "            qc = get_pqc(params,ansatz)\n",
    "            result = execute(qc, backend, seed_simulator=seed_simulator, seed_transpiler=seed_transpiler,\n",
    "                             coupling_map=coupling_map,basis_gates=basis_gates, noise_model=noise_model).result()\n",
    "            outputstate = result.data(0)['snapshots']['statevector']['final']\n",
    "            listsv = [np.outer(j,np.conj(j)) for i, j in enumerate(outputstate)]\n",
    "            sv_avg = sum(listsv)/len(listsv)       #np.mean(listsv,axis=0)\n",
    "            qstatelist.append(sv_avg)\n",
    "        fidelityList.append(state_fidelity(qstatelist[0], qstatelist[1]))\n",
    "    return fidelityList"
   ]
  },
  {
   "cell_type": "code",
   "execution_count": 5,
   "metadata": {},
   "outputs": [],
   "source": [
    "#Compute KL divergence between distributions of state fidelities\n",
    "def kl_divergence(p):\n",
    "    N=16\n",
    "    num_bins = 75\n",
    "    bin_width = 1/num_bins\n",
    "    bin_edges = np.linspace(0,1,num_bins+1)\n",
    "    \n",
    "    chist, _ =  np.histogram(np.array(p), bins=bin_edges, density= True)\n",
    "    #Use analytical form to attain probability distribution of fidelities for ensemble of Haar random states\n",
    "    fhist = np.array([(N-1)*(1-F)**(N-2) for F in bin_edges[:-1]])\n",
    "    \n",
    "    kl_pq = np.sum(rel_entr(chist*bin_width, fhist/sum(fhist)))\n",
    "    print('KL(P || Q): %.3f ' % kl_pq)\n",
    "    return kl_pq"
   ]
  },
  {
   "cell_type": "code",
   "execution_count": 6,
   "metadata": {},
   "outputs": [
    {
     "name": "stdout",
     "output_type": "stream",
     "text": [
      "('RY_CX', 'ry', 'cx', [(2, 3), (1, 2), (0, 1), (0, 3)])\n",
      "KL(P || Q): 0.698 \n",
      "('RY_CZ', 'ry', 'cz', [(2, 3), (1, 2), (0, 1), (0, 3)])\n",
      "KL(P || Q): 0.673 \n",
      "('HRX_CX', ['h', 'rx'], 'cx', 'full')\n",
      "KL(P || Q): 0.835 \n",
      "('HRX_CZ', ['h', 'rx'], 'cz', 'full')\n",
      "KL(P || Q): 2.668 \n",
      "('RYRZ_CZ', ['ry', 'rz'], 'cz', 'full')\n",
      "KL(P || Q): 1.459 \n",
      "('RYRZ_CX', ['ry', 'rz'], 'cx', 'full')\n",
      "KL(P || Q): 0.946 \n"
     ]
    }
   ],
   "source": [
    "num_qubits = 4\n",
    "var_forms = [('RY_CX', 'ry', 'cx', [(2, 3), (1, 2), (0, 1), (0, 3)]),\n",
    "             ('RY_CZ', 'ry', 'cz', [(2, 3), (1, 2), (0, 1), (0, 3)]),\n",
    "             ('HRX_CX', ['h', 'rx'], 'cx', 'full'),\n",
    "             ('HRX_CZ', ['h', 'rx'], 'cz', 'full'),\n",
    "             ('RYRZ_CZ', ['ry', 'rz'], 'cz','full'),\n",
    "             ('RYRZ_CX', ['ry', 'rz'], 'cx', 'full')]\n",
    "             \n",
    "# CX or CZ circuit experiment\n",
    "for k in range(len(var_forms)):\n",
    "    print(var_forms[k])\n",
    "    ansatz = TwoLocal(num_qubits, var_forms[k][1], var_forms[k][2], reps=1, entanglement=var_forms[k][3], insert_barriers=True)\n",
    "    #ansatz = TwoLocal(4, 'ry', 'cz', reps=1, entanglement=[(2, 3), (1, 2), (0,1), (0,3)], insert_barriers=True)\n",
    "    #ansatz = TwoLocal(num_qubits, ['ry', 'rz'], 'cx', reps= 1,entanglement= 'full' , insert_barriers=True)\n",
    "    #ansatz = TwoLocal(num_qubits, ['ry', 'rz'], 'cz', reps=1, entanglement= 'full', insert_barriers=True)\n",
    "    #ansatz = TwoLocal(num_qubits, ['h', 'rx'], 'cx', entanglement='full', reps=1, parameter_prefix = 'y',insert_barriers=True)\n",
    "    #ansatz = TwoLocal(num_qubits, ['h', 'rx'], 'cz', entanglement=[(2, 3), (1, 2), (0,1), (0,3)], reps=1, insert_barriers=True)\n",
    "    circuit = ansatz.snapshot_statevector('final')\n",
    "    fidelityList = get_circuit_distribution(ansatz)\n",
    "    kl = kl_divergence(fidelityList)"
   ]
  }
 ],
 "metadata": {
  "kernelspec": {
   "display_name": "Python 3",
   "language": "python",
   "name": "python3"
  },
  "language_info": {
   "codemirror_mode": {
    "name": "ipython",
    "version": 3
   },
   "file_extension": ".py",
   "mimetype": "text/x-python",
   "name": "python",
   "nbconvert_exporter": "python",
   "pygments_lexer": "ipython3",
   "version": "3.8.8"
  }
 },
 "nbformat": 4,
 "nbformat_minor": 4
}
