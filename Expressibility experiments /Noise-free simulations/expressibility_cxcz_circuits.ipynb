{
 "cells": [
  {
   "cell_type": "code",
   "execution_count": 1,
   "metadata": {},
   "outputs": [],
   "source": [
    "%matplotlib inline\n",
    "# Importing standard Qiskit libraries and configuring account\n",
    "from qiskit import QuantumCircuit, execute, Aer, IBMQ\n",
    "from qiskit.compiler import transpile, assemble\n",
    "from qiskit.tools.jupyter import *\n",
    "from qiskit.visualization import *\n",
    "from qiskit.circuit import ParameterVector\n",
    "from qiskit import IBMQ, BasicAer, Aer, QuantumCircuit, execute\n",
    "from qiskit.circuit.library import TwoLocal, EfficientSU2\n",
    "from qiskit.quantum_info.states.random import random_statevector\n",
    "from qiskit.quantum_info import state_fidelity\n",
    "from qiskit.aqua.utils import get_subsystem_density_matrix\n",
    "from qiskit.aqua import aqua_globals\n",
    "from scipy.special import rel_entr\n",
    "from qiskit.extensions import CXGate\n",
    "from qiskit.providers.aer.noise import NoiseModel, errors\n",
    "from qiskit.providers.aer.extensions.snapshot_statevector import *\n",
    "import numpy as np\n",
    "import matplotlib.pyplot as plt\n",
    "import warnings\n",
    "warnings.filterwarnings('ignore')\n",
    "# setup qiskit.chemistry logging\n",
    "import logging\n",
    "from qiskit.chemistry import set_qiskit_chemistry_logging\n",
    "set_qiskit_chemistry_logging(logging.ERROR)"
   ]
  },
  {
   "cell_type": "code",
   "execution_count": 2,
   "metadata": {},
   "outputs": [
    {
     "name": "stdout",
     "output_type": "stream",
     "text": [
      "qasm_simulator\n"
     ]
    }
   ],
   "source": [
    "# Loading your IBM Q account(s)\n",
    "backend = Aer.get_backend(\"qasm_simulator\")\n",
    "print(backend)"
   ]
  },
  {
   "cell_type": "code",
   "execution_count": 3,
   "metadata": {},
   "outputs": [],
   "source": [
    "#Set the seed for reproducible results\n",
    "aqua_globals.random_seed = 100\n",
    "seed_simulator = 100\n",
    "seed_transpiler=100\n",
    "np.random.seed(100)"
   ]
  },
  {
   "cell_type": "code",
   "execution_count": 4,
   "metadata": {},
   "outputs": [],
   "source": [
    "#Alternative way to attain the Haar distribution\n",
    "def haar_distribution():\n",
    "    nplist = np.load('haar_distribution.npy')\n",
    "    flist = nplist.tolist()\n",
    "    if len(flist) == 0:\n",
    "        print('the list is empty')\n",
    "        flist = []\n",
    "        for m in range(5000):\n",
    "            a = random_statevector(4)\n",
    "            b = random_statevector(4)\n",
    "            flist.append(state_fidelity(a, b))\n",
    "        np.save('haar_distribution.npy', flist)\n",
    "    return flist"
   ]
  },
  {
   "cell_type": "code",
   "execution_count": 5,
   "metadata": {},
   "outputs": [],
   "source": [
    "#Determine expressibility for circuits with CZ and CX gates #\n",
    "def quantum_state_preparation(parameters, gseq):\n",
    "    for gorder, elist in gseq:\n",
    "\n",
    "        circuit = QuantumCircuit(4)\n",
    "        circuit.ry(parameters[0], 0)\n",
    "        circuit.ry(parameters[1], 1)\n",
    "        circuit.ry(parameters[2], 2)\n",
    "        circuit.ry(parameters[3], 3)\n",
    "        circuit.barrier()\n",
    "        for i, j in enumerate(gorder):\n",
    "            if gorder[i] == 'cx':\n",
    "                circuit.cx(elist[i][0], elist[i][1])\n",
    "            else:\n",
    "                circuit.cz(elist[i][0], elist[i][1])\n",
    "        circuit.barrier()\n",
    "        circuit.ry(parameters[4], 0)\n",
    "        circuit.ry(parameters[5], 1)\n",
    "        circuit.ry(parameters[6], 2)\n",
    "        circuit.ry(parameters[7], 3)\n",
    "        circuit.snapshot_statevector('final')\n",
    "        return circuit\n",
    "\n",
    "def get_cxcz_distribution(ansatz,gates):\n",
    "    cfidelityList = []\n",
    "    for m in range(5000):\n",
    "        qstatelist = []\n",
    "        for i in range(2):\n",
    "            # Obtain a quantum circuit instance from the paramters\n",
    "            params = np.random.random(ansatz.num_parameters) * 2 * np.pi\n",
    "            circ = quantum_state_preparation(params, gates)\n",
    "            result = execute(circ, backend, seed_simulator=seed_simulator, seed_transpiler=seed_transpiler).result()\n",
    "            outputstate = result.data(0)['snapshots']['statevector']['final']\n",
    "            qstatelist.append(outputstate[0])\n",
    "        cfidelityList.append(state_fidelity(qstatelist[0], qstatelist[1]))\n",
    "    print(gates)\n",
    "    circ.draw(output='mpl')\n",
    "    return cfidelityList"
   ]
  },
  {
   "cell_type": "code",
   "execution_count": 6,
   "metadata": {},
   "outputs": [],
   "source": [
    "#Compute KL divergence between distributions of state fidelities\n",
    "def kl_divergence(p):\n",
    "    N=16\n",
    "    num_bins = 75\n",
    "    bin_width = 1/num_bins\n",
    "    bin_edges = np.linspace(0,1,num_bins+1)\n",
    "    \n",
    "    chist, _ =  np.histogram(np.array(p), bins=bin_edges, density= True)\n",
    "    #Use analytical form to attain probability distribution of fidelities for ensemble of Haar random states\n",
    "    fhist = np.array([(N-1)*(1-F)**(N-2) for F in bin_edges[:-1]])\n",
    "    \n",
    "    kl_pq = np.sum(rel_entr(chist*bin_width, fhist/sum(fhist)))\n",
    "    print('KL(P || Q): %.3f ' % kl_pq)\n",
    "    return kl_pq"
   ]
  },
  {
   "cell_type": "code",
   "execution_count": 7,
   "metadata": {},
   "outputs": [
    {
     "name": "stdout",
     "output_type": "stream",
     "text": [
      "[(['cx', 'cz', 'cx', 'cz'], [(2, 3), (1, 2), (0, 1), (0, 3)])]\n",
      "KL(P || Q): 0.229 \n",
      "[(['cx', 'cz', 'cz', 'cx'], [(2, 3), (1, 2), (0, 1), (0, 3)])]\n",
      "KL(P || Q): 0.234 \n",
      "[(['cx', 'cx', 'cz', 'cz'], [(2, 3), (1, 2), (0, 1), (0, 3)])]\n",
      "KL(P || Q): 0.205 \n",
      "[(['cz', 'cx', 'cz', 'cx'], [(2, 3), (1, 2), (0, 1), (0, 3)])]\n",
      "KL(P || Q): 0.202 \n",
      "[(['cz', 'cx', 'cx', 'cz'], [(2, 3), (1, 2), (0, 1), (0, 3)])]\n",
      "KL(P || Q): 0.224 \n",
      "[(['cz', 'cz', 'cx', 'cx'], [(2, 3), (1, 2), (0, 1), (0, 3)])]\n",
      "KL(P || Q): 0.240 \n"
     ]
    }
   ],
   "source": [
    "num_qubits = 4\n",
    "ansatz = TwoLocal(4, 'ry', 'cz', reps=1, entanglement=[(2, 3), (1, 2), (0,1), (0,3)], insert_barriers=True)\n",
    "\n",
    "#CXCZ circuit experiment\n",
    "\n",
    "gatelist = [(['cx', 'cz', 'cx', 'cz'], [(2, 3), (1, 2), (0, 1), (0, 3)]),\n",
    "            (['cx', 'cz', 'cz', 'cx'], [(2, 3), (1, 2), (0, 1), (0, 3)]),\n",
    "            (['cx', 'cx', 'cz', 'cz'], [(2, 3), (1, 2), (0, 1), (0, 3)]),\n",
    "            (['cz', 'cx', 'cz', 'cx'], [(2, 3), (1, 2), (0, 1), (0, 3)]),\n",
    "            (['cz', 'cx', 'cx', 'cz'], [(2, 3), (1, 2), (0, 1), (0, 3)]),\n",
    "            (['cz', 'cz', 'cx', 'cx'], [(2, 3), (1, 2), (0, 1), (0, 3)])]\n",
    "\n",
    "for i in range(len(gatelist)):\n",
    "    gates = [gatelist[i]]\n",
    "    cfidelityList = get_cxcz_distribution(ansatz, gates)\n",
    "    kl = kl_divergence(cfidelityList)\n",
    "    #visualise circuits\n",
    "    #params = ParameterVector('θ', 8) \n",
    "    #circ = quantum_state_preparation(params, gates)\n",
    "    #circ.draw(output='mpl')"
   ]
  }
 ],
 "metadata": {
  "kernelspec": {
   "display_name": "Python 3",
   "language": "python",
   "name": "python3"
  },
  "language_info": {
   "codemirror_mode": {
    "name": "ipython",
    "version": 3
   },
   "file_extension": ".py",
   "mimetype": "text/x-python",
   "name": "python",
   "nbconvert_exporter": "python",
   "pygments_lexer": "ipython3",
   "version": "3.8.8"
  }
 },
 "nbformat": 4,
 "nbformat_minor": 4
}
